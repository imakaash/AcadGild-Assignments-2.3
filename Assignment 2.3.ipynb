{
 "cells": [
  {
   "cell_type": "code",
   "execution_count": 10,
   "metadata": {},
   "outputs": [
    {
     "name": "stdout",
     "output_type": "stream",
     "text": [
      "Enter the number of words you want to add to the list 5\n",
      "Enter the word germany\n",
      "Enter the word australia\n",
      "Enter the word india\n",
      "Enter the word argentina\n",
      "Enter the word africa\n",
      "longest word is:\n",
      "australia\n",
      "argentina\n"
     ]
    }
   ],
   "source": [
    "def longestWord(lst):\n",
    "    old_length = 0\n",
    "    out = 0\n",
    "    output = []\n",
    "    for i in range(len(lst)):\n",
    "        length = len(lst[i])\n",
    "        if length > old_length:\n",
    "            out = i\n",
    "            old_length = length\n",
    "\n",
    "    for j in range(len(lst)):\n",
    "        if len(lst[j])==old_length:\n",
    "            output.append(lst[j])\n",
    "    return output        \n",
    "        \n",
    "inp = int(input(\"Enter the number of words you want to add to the list \"))\n",
    "inp_lst = []\n",
    "for i in range(inp):\n",
    "    word = input(\"Enter the word \")\n",
    "    inp_lst.append(word)\n",
    "answer = longestWord(inp_lst)\n",
    "print('longest word is:')\n",
    "for j in range(len(answer)):\n",
    "    print(answer[j])"
   ]
  },
  {
   "cell_type": "code",
   "execution_count": null,
   "metadata": {},
   "outputs": [],
   "source": []
  }
 ],
 "metadata": {
  "kernelspec": {
   "display_name": "Python 3",
   "language": "python",
   "name": "python3"
  },
  "language_info": {
   "codemirror_mode": {
    "name": "ipython",
    "version": 3
   },
   "file_extension": ".py",
   "mimetype": "text/x-python",
   "name": "python",
   "nbconvert_exporter": "python",
   "pygments_lexer": "ipython3",
   "version": "3.6.4"
  }
 },
 "nbformat": 4,
 "nbformat_minor": 2
}
